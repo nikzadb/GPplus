{
 "cells": [
  {
   "cell_type": "code",
   "execution_count": null,
   "metadata": {},
   "outputs": [],
   "source": [
    "import os\n",
    "import pickle\n",
    "import numpy as np\n",
    "import pandas as pd\n",
    "import pymc3 as pm3\n",
    "import seaborn as sns\n",
    "import matplotlib.pylab as plt\n",
    "\n",
    "%matplotlib inline"
   ]
  },
  {
   "cell_type": "code",
   "execution_count": null,
   "metadata": {},
   "outputs": [],
   "source": [
    "data = pd.read_csv('../testresults/simdata2D.csv', sep=',')\n",
    "print(data.shape)\n",
    "data.head()"
   ]
  },
  {
   "cell_type": "code",
   "execution_count": null,
   "metadata": {},
   "outputs": [],
   "source": [
    "X = data[['x1', 'x2']].T.values\n",
    "X_gp = data[['centroid_x', 'centroid_y']].values\n",
    "y = data.log_crime_rate.values\n",
    "num_features = X.shape[0]  # there are 2 features (x1,x2)\n",
    "X_mean = X.mean(axis=1, keepdims=True)\n",
    "X_centered = X-X_mean # required to speed up the process; without scaling it takes > 1hour fir 11000 samples but with scaling it becomes ~15min\n",
    "print(X.shape, X_mean.shape, X_centered.shape, X_gp.shape, y.shape)\n",
    "#Note; y.shape must not be (400,1) but it must be (400,). The same X must be (2, 400) not (400,2); otherwise, it takes too much time with wrong result"
   ]
  },
  {
   "cell_type": "code",
   "execution_count": null,
   "metadata": {},
   "outputs": [],
   "source": [
    "gp_input_dim = 2\n",
    "time_involved = False\n",
    "\n",
    "if os.path.isfile('../chain.pickle'):\n",
    "    chain = pickle.load(open('../chain.pickle', 'rb'))\n",
    "else:\n",
    "    with pm3.Model() as model_mlr:\n",
    "        ## Bayesian linear regression\n",
    "        α_blr = pm3.Normal('α_blr', mu=0, sd=10)\n",
    "        β_blr = pm3.Normal('β_blr', mu=0, sd=1, shape=num_features)\n",
    "        σ = pm3.HalfCauchy('σ', 5)\n",
    "        μ_blr = α_blr + pm3.math.dot(β_blr, X_centered)\n",
    "\n",
    "        ## The spatial GP\n",
    "        η_spatial_trend = 1 #pm3.HalfCauchy(\"η_trend\", beta=2, testval=2.0)\n",
    "        ℓ_spatial_trend = pm3.Gamma(\"ℓ_trend\", alpha=4, beta=0.1, shape=gp_input_dim)\n",
    "        cov_spatial_trend = (\n",
    "            η_spatial_trend**2 * pm3.gp.cov.ExpQuad(input_dim=gp_input_dim, ls=ℓ_spatial_trend)\n",
    "        )\n",
    "        gp_spatial_trend = pm3.gp.Marginal(cov_func=cov_spatial_trend)    \n",
    "\n",
    "        gp = gp_spatial_trend\n",
    "        if time_involved:\n",
    "            ## The temporal GP    \n",
    "            # yearly periodic component\n",
    "            yearly_period  = pm3.Normal(\"yearly_period\", mu=1, sd=0.05)\n",
    "            yearly_smooth = pm3.Gamma(\"yearly_smooth \", alpha=4, beta=3)\n",
    "            cov_yearly = pm3.gp.cov.Periodic(1, yearly_period, yearly_smooth)\n",
    "            gp_yearly = pm3.gp.Marginal(cov_func=cov_yearly)\n",
    "\n",
    "            # weekly periodic component\n",
    "            weekly_period  = pm3.Normal(\"weekly_period\", mu=1, sd=0.05)\n",
    "            weekly_smooth = pm3.Gamma(\"weekly_smooth \", alpha=4, beta=3)\n",
    "            cov_weekly = pm3.gp.cov.Periodic(1, weekly_period, weekly_smooth)\n",
    "            gp_weekly = pm3.gp.Marginal(cov_func=cov_weekly)\n",
    "\n",
    "            gp += gp_yearly + gp_weekly\n",
    "\n",
    "        # noise model\n",
    "        cov_noise = pm3.gp.cov.WhiteNoise(σ)\n",
    "        \n",
    "        # alpha_tmp is for centerlized data. It must be trnasformed to original.\n",
    "        y_blr = pm3.Normal(\n",
    "            'y_blr', \n",
    "            mu=μ_blr, \n",
    "            sd=σ, \n",
    "            observed=y)\n",
    "        y_gp = gp.marginal_likelihood(\"y_gp\", X=X_gp, y=y-μ_blr, noise=cov_noise)\n",
    "\n",
    "        start = None # pm3.find_MAP()\n",
    "        step = pm3.Metropolis() # pm3.NUTS(scaling=start)\n",
    "        trace_mlr = pm3.sample(5000, start=start, step=step)\n",
    "        chain = trace_mlr[-5000:]\n",
    "        pickle.dump(chain, open('../chain.pickle', 'wb'))\n",
    "\n",
    "varnames = ['α_blr', 'β_blr', 'σ', 'ℓ_trend'] #'η_trend', \n",
    "pm3.traceplot(chain, varnames=varnames)\n",
    "pm3.autocorrplot(chain)\n",
    "print(pm3.summary(chain, varnames))"
   ]
  },
  {
   "cell_type": "code",
   "execution_count": null,
   "metadata": {},
   "outputs": [],
   "source": []
  }
 ],
 "metadata": {
  "kernelspec": {
   "display_name": "Python 3",
   "language": "python",
   "name": "python3"
  },
  "language_info": {
   "codemirror_mode": {
    "name": "ipython",
    "version": 3
   },
   "file_extension": ".py",
   "mimetype": "text/x-python",
   "name": "python",
   "nbconvert_exporter": "python",
   "pygments_lexer": "ipython3",
   "version": "3.6.5"
  }
 },
 "nbformat": 4,
 "nbformat_minor": 2
}
